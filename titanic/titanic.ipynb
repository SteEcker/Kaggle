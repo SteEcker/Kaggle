{
  "nbformat": 4,
  "nbformat_minor": 0,
  "metadata": {
    "colab": {
      "name": "Untitled0.ipynb",
      "provenance": [],
      "authorship_tag": "ABX9TyNcj7ZyhGufdvQfGYfRkf0y",
      "include_colab_link": true
    },
    "kernelspec": {
      "name": "python3",
      "display_name": "Python 3"
    },
    "language_info": {
      "name": "python"
    }
  },
  "cells": [
    {
      "cell_type": "markdown",
      "metadata": {
        "id": "view-in-github",
        "colab_type": "text"
      },
      "source": [
        "<a href=\"https://colab.research.google.com/github/SteEcker/Kaggle/blob/main/titanic/titanic.ipynb\" target=\"_parent\"><img src=\"https://colab.research.google.com/assets/colab-badge.svg\" alt=\"Open In Colab\"/></a>"
      ]
    },
    {
      "cell_type": "markdown",
      "source": [
        "# 2022-01-27 - Titanic "
      ],
      "metadata": {
        "id": "bt6eRf75GWx1"
      }
    },
    {
      "cell_type": "markdown",
      "source": [
        "Workspace Setup"
      ],
      "metadata": {
        "id": "f5W5guCcGiDK"
      }
    },
    {
      "cell_type": "code",
      "source": [
        "! git clone https://github.com/SteEcker/Kaggle.git\n",
        "\n",
        "%cd /content/Kaggle/titanic\n",
        "\n",
        "%ls "
      ],
      "metadata": {
        "colab": {
          "base_uri": "https://localhost:8080/"
        },
        "id": "-spNuG9pGfrg",
        "outputId": "fc6b3695-c868-4d44-f9a6-58dda7807ef6"
      },
      "execution_count": 3,
      "outputs": [
        {
          "output_type": "stream",
          "name": "stdout",
          "text": [
            "Cloning into 'Kaggle'...\n",
            "remote: Enumerating objects: 30, done.\u001b[K\n",
            "remote: Counting objects: 100% (30/30), done.\u001b[K\n",
            "remote: Compressing objects: 100% (22/22), done.\u001b[K\n",
            "remote: Total 30 (delta 8), reused 18 (delta 3), pack-reused 0\u001b[K\n",
            "Unpacking objects: 100% (30/30), done.\n",
            "/content/Kaggle/titanic\n",
            "gender_submission.csv  \u001b[0m\u001b[01;34mKaggle\u001b[0m/  test.csv  train.csv\n"
          ]
        }
      ]
    },
    {
      "cell_type": "code",
      "source": [
        ""
      ],
      "metadata": {
        "id": "PtIXINlyHI6d"
      },
      "execution_count": null,
      "outputs": []
    }
  ]
}